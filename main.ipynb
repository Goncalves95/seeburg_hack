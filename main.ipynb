{
 "cells": [
  {
   "cell_type": "code",
   "execution_count": null,
   "metadata": {},
   "outputs": [],
   "source": [
    "!pip3 install pandas\n",
    "!pip3 install sqlalchemy\n",
    "!pip3 install psycopg2  # For PostgreSQL\n",
    "!pip3 install pymysql   # For MySQL\n",
    "!pip3 install cx_Oracle # For Oracle \n",
    "!pip3 install pyodbc"
   ]
  },
  {
   "cell_type": "code",
   "execution_count": null,
   "metadata": {},
   "outputs": [],
   "source": [
    "import pyodbc\n",
    "import pandas as pd\n",
    "\n",
    "# Define your connection string\n",
    "connection_string = (\n",
    "    \"DRIVER={ODBC Driver 17 for SQL Server};\"\n",
    "    \"SERVER=Rahul\\MSSQLSERVER01;\"\n",
    "    \"DATABASE=ECC60jkl_HACK;\"\n",
    "    \"Trusted_Connection=yes;\"\n",
    ")\n",
    "\n",
    "# Establish the connection\n",
    "connection = pyodbc.connect(connection_string)\n",
    "\n",
    "# Use the connection to query the database with pandas\n",
    "source = pd.read_sql(\"SELECT * FROM dbo.A017\", connection)\n",
    "\n",
    "# Print the dataframe\n",
    "print(source)\n",
    "\n"
   ]
  },
  {
   "cell_type": "code",
   "execution_count": null,
   "metadata": {},
   "outputs": [],
   "source": [
    "!pip3 install dask"
   ]
  },
  {
   "cell_type": "code",
   "execution_count": null,
   "metadata": {},
   "outputs": [],
   "source": [
    "import pandas as pd\n",
    "import pyodbc\n",
    "\n",
    "# Define the connection string for the target database (Oracle EBS)\n",
    "target_connection_string = (\n",
    "    \"DRIVER={ODBC Driver 17 for SQL Server};\"\n",
    "    \"SERVER=Rahul\\MSSQLSERVER01;\"\n",
    "    \"DATABASE=ORACLE_EBS_HACK;\"\n",
    "    \"Trusted_Connection=yes;\"\n",
    ")\n",
    "\n",
    "# Establish the connection\n",
    "connection = pyodbc.connect(target_connection_string)\n",
    "\n",
    "# Use the connection to query the database with pandas\n",
    "source = pd.read_sql(\"SELECT * FROM APPLSYS_FND_FLEX_VALUES\", connection)\n",
    "\n",
    "# Print the dataframe\n",
    "print(source)"
   ]
  }
 ],
 "metadata": {
  "language_info": {
   "name": "python"
  }
 },
 "nbformat": 4,
 "nbformat_minor": 2
}

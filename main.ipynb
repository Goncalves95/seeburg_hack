{
 "cells": [
  {
   "cell_type": "code",
   "execution_count": null,
   "metadata": {},
   "outputs": [],
   "source": [
    "!pip3 install pandas\n",
    "!pip3 install sqlalchemy\n",
    "!pip3 install psycopg2  # For PostgreSQL\n",
    "!pip3 install pymysql   # For MySQL\n",
    "!pip3 install cx_Oracle # For Oracle \n",
    "!pip3 install pyodbc"
   ]
  },
  {
   "cell_type": "code",
   "execution_count": null,
   "metadata": {},
   "outputs": [],
   "source": [
    "import pyodbc\n",
    "import pandas as pd\n",
    "\n",
    "# Define your connection string\n",
    "connection_string = (\n",
    "    \"DRIVER={ODBC Driver 17 for SQL Server};\"\n",
    "    \"SERVER=Rahul\\MSSQLSERVER01;\"\n",
    "    \"DATABASE=ECC60jkl_HACK;\"\n",
    "    \"Trusted_Connection=yes;\"\n",
    ")\n",
    "\n",
    "# Establish the connection\n",
    "connection = pyodbc.connect(connection_string)\n",
    "\n",
    "# Use the connection to query the database with pandas\n",
    "source = pd.read_sql(\"SELECT * FROM dbo.A017\", connection)\n",
    "\n",
    "# Print the dataframe\n",
    "print(source)\n",
    "\n"
   ]
  },
  {
   "cell_type": "code",
   "execution_count": null,
   "metadata": {},
   "outputs": [],
   "source": [
    "!pip3 install dask"
   ]
  },
  {
   "cell_type": "code",
   "execution_count": null,
   "metadata": {},
   "outputs": [],
   "source": [
    "import pandas as pd\n",
    "import pyodbc\n",
    "\n",
    "# Define the connection string for the target database (Oracle EBS)\n",
    "target_connection_string = (\n",
    "    \"DRIVER={ODBC Driver 17 for SQL Server};\"\n",
    "    \"SERVER=Rahul\\MSSQLSERVER01;\"\n",
    "    \"DATABASE=ORACLE_EBS_HACK;\"\n",
    "    \"Trusted_Connection=yes;\"\n",
    ")\n",
    "\n",
    "# Establish the connection\n",
    "connection = pyodbc.connect(target_connection_string)\n",
    "\n",
    "# Use the connection to query the database with pandas\n",
    "source = pd.read_sql(\"SELECT * FROM APPLSYS_FND_FLEX_VALUES\", connection)\n",
    "\n",
    "# Print the dataframe\n",
    "print(source)"
   ]
  },
  {
   "cell_type": "code",
   "execution_count": null,
   "metadata": {},
   "outputs": [],
   "source": [
    "# Get the schema information for the Oracle EBS database\n",
    "target_cursor = target_connection.cursor()\n",
    "target_cursor.execute(\"SELECT TABLE_NAME, COLUMN_NAME, DATA_TYPE FROM INFORMATION_SCHEMA.COLUMNS\")\n",
    "target_schema = target_cursor.fetchall()\n",
    "\n",
    "# Get the schema information for the ECC60jkl_HACK database\n",
    "source_cursor = connection.cursor()\n",
    "source_cursor.execute(\"SELECT TABLE_NAME, COLUMN_NAME, DATA_TYPE FROM INFORMATION_SCHEMA.COLUMNS\")\n",
    "source_schema = source_cursor.fetchall()"
   ]
  },
  {
   "cell_type": "code",
   "execution_count": null,
   "metadata": {},
   "outputs": [],
   "source": [
    "target_schema_dict = {}\n",
    "for table, column, data_type in target_schema:\n",
    "    print(f\"Target schema: {table}.{column} ({data_type})\")\n",
    "    if table not in target_schema_dict:\n",
    "        target_schema_dict[table] = []\n",
    "    target_schema_dict[table].append((column, data_type))\n",
    "\n",
    "print(f\"Target schema dict: {target_schema_dict}\")\n",
    "\n",
    "source_schema_dict = {}\n",
    "for table, column, data_type in source_schema:\n",
    "    print(f\"Source schema: {table}.{column} ({data_type})\")\n",
    "    if table not in source_schema_dict:\n",
    "        source_schema_dict[table] = []\n",
    "    source_schema_dict[table].append((column, data_type))\n",
    "\n",
    "print(f\"Source schema dict: {source_schema_dict}\")"
   ]
  },
  {
   "cell_type": "code",
   "execution_count": null,
   "metadata": {},
   "outputs": [],
   "source": [
    "similar_tables = {}\n",
    "for target_table, target_columns in target_schema_dict.items():\n",
    "    for source_table, source_columns in source_schema_dict.items():\n",
    "        similarity = len(set(target_columns) & set(source_columns)) / len(set(target_columns) | set(source_columns))\n",
    "        if similarity > 0.5:  # adjust the threshold as needed\n",
    "            similar_tables[target_table] = source_table\n",
    "\n",
    "print(f\"Similar tables: {similar_tables}\")"
   ]
  },
  {
   "cell_type": "code",
   "execution_count": null,
   "metadata": {},
   "outputs": [],
   "source": [
    "similar_columns = {}\n",
    "for target_table, target_columns in target_schema_dict.items():\n",
    "    for source_table, source_columns in source_schema_dict.items():\n",
    "        if target_table == source_table:  # only compare columns within the same table\n",
    "            for target_column_name in [col[1] for col in target_columns]:\n",
    "                for source_column_name in [col[1] for col in source_columns]:\n",
    "                    if target_column_name == source_column_name:\n",
    "                        similarity = 1.0  # exact match\n",
    "                    else:\n",
    "                        similarity = levenshtein_distance(target_column_name, source_column_name)\n",
    "                    if similarity > 0.5:  # adjust the threshold as needed\n",
    "                        similar_columns[(target_table, target_column_name)] = (source_table, source_column_name)\n",
    "\n",
    "print(f\"Similar columns: {similar_columns}\")"
   ]
  },
  {
   "cell_type": "code",
   "execution_count": null,
   "metadata": {},
   "outputs": [],
   "source": [
    "!pip3 install jellyfish "
   ]
  }
 ],
 "metadata": {
  "language_info": {
   "name": "python"
  }
 },
 "nbformat": 4,
 "nbformat_minor": 2
}
